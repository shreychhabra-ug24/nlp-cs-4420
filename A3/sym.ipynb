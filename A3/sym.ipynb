{
 "cells": [
  {
   "cell_type": "code",
   "execution_count": 1,
   "id": "3ddd570f",
   "metadata": {},
   "outputs": [
    {
     "name": "stderr",
     "output_type": "stream",
     "text": [
      "/Library/Frameworks/Python.framework/Versions/3.9/lib/python3.9/site-packages/tqdm/auto.py:21: TqdmWarning: IProgress not found. Please update jupyter and ipywidgets. See https://ipywidgets.readthedocs.io/en/stable/user_install.html\n",
      "  from .autonotebook import tqdm as notebook_tqdm\n",
      "Asking to truncate to max_length but no maximum length is provided and the model has no predefined maximum length. Default to no truncation.\n"
     ]
    }
   ],
   "source": [
    "import pandas as pd\n",
    "from transformers import AutoTokenizer, BertForTokenClassification\n",
    "import torch\n",
    "import torch.nn.functional as F\n",
    "from collections import defaultdict\n",
    "\n",
    "# Load model and tokenizer\n",
    "model_name = 'MilosKosRad/BioNER'\n",
    "tokenizer = AutoTokenizer.from_pretrained(model_name)\n",
    "model = BertForTokenClassification.from_pretrained(model_name)\n",
    "\n",
    "# Load your CSV\n",
    "df = pd.read_csv('adverse_drug_effects_pos.csv', sep=',')\n",
    "\n",
    "# Helper function to extract named entities based on label\n",
    "def extract_entities(label, text):\n",
    "    inputs = tokenizer(label, text, return_tensors='pt', padding=True, truncation=True)\n",
    "    with torch.no_grad():\n",
    "        outputs = model(**inputs)\n",
    "        logits = outputs.logits\n",
    "        probs = F.softmax(logits, dim=-1)\n",
    "        predictions = torch.argmax(probs, dim=-1).squeeze().tolist()\n",
    "\n",
    "    tokens = tokenizer.convert_ids_to_tokens(inputs['input_ids'].squeeze())\n",
    "    entity_tokens = [tokens[i] for i, pred in enumerate(predictions) if pred == 1]\n",
    "    return merge_tokens(entity_tokens)\n",
    "\n",
    "# Merge subword tokens\n",
    "def merge_tokens(tokens):\n",
    "    full_tokens = []\n",
    "    current = \"\"\n",
    "    for token in tokens:\n",
    "        if token.startswith(\"##\"):\n",
    "            current += token[2:]\n",
    "        else:\n",
    "            if current:\n",
    "                full_tokens.append(current)\n",
    "            current = token\n",
    "    if current:\n",
    "        full_tokens.append(current)\n",
    "    return full_tokens\n",
    "\n",
    "# Store frequency of (drug, symptom) pairs\n",
    "drug_symptom_pairs = defaultdict(int)\n",
    "\n",
    "# Process each sentence\n",
    "for text in df['Text']:\n",
    "    drugs = extract_entities('Drug', text)\n",
    "    symptoms = extract_entities('Symptom', text)\n",
    "    \n",
    "    for drug in drugs:\n",
    "        for symptom in symptoms:\n",
    "            pair = (drug.lower(), symptom.lower())\n",
    "            drug_symptom_pairs[pair] += 1\n",
    "\n",
    "# Convert to DataFrame\n",
    "pair_df = pd.DataFrame([\n",
    "    {'Drug': drug, 'Symptom': symptom, 'Count': count}\n",
    "    for (drug, symptom), count in drug_symptom_pairs.items()\n",
    "])\n",
    "pair_df = pair_df.sort_values(by='Count', ascending=False)\n",
    "\n",
    "# Save to CSV\n",
    "pair_df.to_csv('drug_symptom_pairs.csv', index=False)"
   ]
  }
 ],
 "metadata": {
  "kernelspec": {
   "display_name": "Python 3",
   "language": "python",
   "name": "python3"
  },
  "language_info": {
   "codemirror_mode": {
    "name": "ipython",
    "version": 3
   },
   "file_extension": ".py",
   "mimetype": "text/x-python",
   "name": "python",
   "nbconvert_exporter": "python",
   "pygments_lexer": "ipython3",
   "version": "3.9.13"
  }
 },
 "nbformat": 4,
 "nbformat_minor": 5
}
