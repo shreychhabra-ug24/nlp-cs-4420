{
 "cells": [
  {
   "cell_type": "markdown",
   "id": "9f493c19",
   "metadata": {},
   "source": [
    "# Assignment 3"
   ]
  },
  {
   "cell_type": "code",
   "execution_count": 23,
   "id": "f7757cad",
   "metadata": {},
   "outputs": [],
   "source": [
    "from dotenv import load_dotenv\n",
    "import os\n",
    "from langchain_google_genai import GoogleGenerativeAIEmbeddings, ChatGoogleGenerativeAI\n",
    "import re\n",
    "from google import genai\n",
    "import pandas as pd\n",
    "import time\n",
    "from tqdm import tqdm\n",
    "\n",
    "load_dotenv()\n",
    "\n",
    "os.environ[\"GOOGLE_API_KEY\"] = os.getenv(\"GOOGLE_API_KEY\")"
   ]
  },
  {
   "cell_type": "code",
   "execution_count": null,
   "id": "a131dea2",
   "metadata": {},
   "outputs": [
    {
     "name": "stderr",
     "output_type": "stream",
     "text": [
      "Processing batches:  82%|████████▏ | 349/428 [38:01<07:44,  5.88s/it]  "
     ]
    }
   ],
   "source": [
    "data = pd.read_csv('adverse_drug_effects_pos.csv')\n",
    "texts = data['Text'].tolist()\n",
    "\n",
    "# Initialize the LLM\n",
    "llm = ChatGoogleGenerativeAI(model=\"gemini-2.0-flash\")\n",
    "\n",
    "#Function to extract drug mentions using the LLM\n",
    "def extract_drug_mentions(text):\n",
    "    prompt = f\"\"\"\n",
    "Extract all drug names mentioned in the following text and count their occurrences.\n",
    "Return results in the format: DrugName: Count\n",
    "\n",
    "Text:\n",
    "{text}\n",
    "\"\"\"\n",
    "    try:\n",
    "        response = llm.invoke(prompt)\n",
    "        result_text = response.content if hasattr(response, \"content\") else str(response)\n",
    "    except Exception as e:\n",
    "        print(f\"Error processing batch: {e}\")\n",
    "        return {}\n",
    "\n",
    "    mentions = {}\n",
    "    for line in result_text.strip().split('\\n'):\n",
    "        match = re.match(r\"(.+?):\\s*(\\d+)\", line)\n",
    "        if match:\n",
    "            drug, count = match.groups()\n",
    "            mentions[drug.strip()] = int(count)\n",
    "    return mentions\n",
    "\n",
    "#setting up batch processing\n",
    "batch_size = 10\n",
    "delay_between_batches = 5  # seconds\n",
    "save_every = 5  # Save every 5 batches\n",
    "drug_mentions = {}\n",
    "\n",
    "#progress bar for batch processing\n",
    "num_batches = (len(texts) + batch_size - 1) // batch_size\n",
    "for batch_num in tqdm(range(num_batches), desc=\"Processing batches\"):\n",
    "    start_idx = batch_num * batch_size\n",
    "    end_idx = start_idx + batch_size\n",
    "    batch = texts[start_idx:end_idx]\n",
    "    combined_text = \"\\n\\n\".join(batch)\n",
    "\n",
    "    extracted = extract_drug_mentions(combined_text)\n",
    "    for drug, count in extracted.items():\n",
    "        drug_mentions[drug] = drug_mentions.get(drug, 0) + count\n",
    "\n",
    "    #save progress every few batches\n",
    "    if (batch_num + 1) % save_every == 0 or batch_num == num_batches - 1:\n",
    "        temp_df = pd.DataFrame(list(drug_mentions.items()), columns=['Drug', 'Mentions'])\n",
    "        temp_df.to_csv(\"drug_mentions_progress.csv\", index=False)\n",
    "\n",
    "    time.sleep(delay_between_batches)\n",
    "\n",
    "# Final save\n",
    "final_df = pd.DataFrame(list(drug_mentions.items()), columns=['Drug', 'Mentions'])\n",
    "final_df.to_csv(\"drug_mentions_final.csv\", index=False)\n",
    "print(\"✅ All done. Final results saved to 'drug_mentions_final.csv'.\")"
   ]
  }
 ],
 "metadata": {
  "kernelspec": {
   "display_name": "Python 3",
   "language": "python",
   "name": "python3"
  },
  "language_info": {
   "codemirror_mode": {
    "name": "ipython",
    "version": 3
   },
   "file_extension": ".py",
   "mimetype": "text/x-python",
   "name": "python",
   "nbconvert_exporter": "python",
   "pygments_lexer": "ipython3",
   "version": "3.9.13"
  }
 },
 "nbformat": 4,
 "nbformat_minor": 5
}
