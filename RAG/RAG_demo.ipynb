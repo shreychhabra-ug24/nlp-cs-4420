{
 "cells": [
  {
   "cell_type": "code",
   "execution_count": 10,
   "metadata": {},
   "outputs": [],
   "source": [
    "import os\n",
    "from langchain_google_genai import GoogleGenerativeAIEmbeddings, ChatGoogleGenerativeAI\n",
    "from dotenv import load_dotenv\n",
    "from langchain_community.document_loaders import PyPDFLoader, DirectoryLoader\n",
    "from langchain.text_splitter import RecursiveCharacterTextSplitter\n",
    "from langchain_community.vectorstores import FAISS\n",
    "from langchain.chains import RetrievalQA\n",
    "from langchain.prompts import PromptTemplate\n",
    "import io\n",
    "import re\n",
    "from google import genai\n",
    "\n",
    "\n",
    "load_dotenv()\n",
    "\n",
    "os.environ[\"GOOGLE_API_KEY\"] = os.getenv(\"GOOGLE_API_KEY\")"
   ]
  },
  {
   "cell_type": "code",
   "execution_count": 11,
   "metadata": {},
   "outputs": [
    {
     "name": "stdout",
     "output_type": "stream",
     "text": [
      "Loaded 371 documents\n"
     ]
    }
   ],
   "source": [
    "loader = DirectoryLoader(\n",
    "    path=\"./dataset\",\n",
    "    glob=\"*.pdf\",\n",
    "    loader_cls=PyPDFLoader\n",
    ")\n",
    "\n",
    "documents = loader.load()\n",
    "\n",
    "for doc in documents:\n",
    "    doc.page_content = re.sub(r\"\\s+\", \" \", doc.page_content)\n",
    "    # doc.page_content = doc.page_content.replace(\"\\n\", \" \")\n",
    "    \n",
    "print(f\"Loaded {len(documents)} documents\")"
   ]
  },
  {
   "cell_type": "code",
   "execution_count": 12,
   "metadata": {},
   "outputs": [
    {
     "name": "stdout",
     "output_type": "stream",
     "text": [
      "Example document: POLITICS,PHILOSOPHY& ECONOMICSHANDBOOK ASHOKAUNIVERSITY This guide was made bythe PPERepresentatives inconsultationwithFacultymembers. We acknowledge thework of the previous representatives in setting up the handbook, this version of the Student Handbookis anadaptationofthepreviousversion DISCLAIMER: The information in this guide is meant to serve as a ready reference for students. Someinformationmaybecomebackdatedwithchangesincurriculum,policiesetc.Thus,youarerequestedtoconfirmthe latest update...\n"
     ]
    }
   ],
   "source": [
    "print(f\"Example document: {documents[0].page_content[:500]}...\")"
   ]
  },
  {
   "cell_type": "code",
   "execution_count": 13,
   "metadata": {},
   "outputs": [
    {
     "name": "stdout",
     "output_type": "stream",
     "text": [
      "Split into 1467 chunks\n",
      "Example chunk: Anyelective Note1:Thetwoelectivecoursesmustbeselectedfromdifferentcategories.SymbolicLogic countsasanelective Note2:ThetwoelectivesmustbetaughtbythePhilosophyfacultyi.e.,coursescross-listed withthePhilosophydepartmenttaughtbyafacultymemberofanotherdepartmentwillnot counttowardstheserequirements. Note3:CoursesofferedbythePhilosophydepartmentinthepastcanbefoundhere, while thosecurrentlybeingofferedandthosesoontobeofferedcanbefoundhere. Pages12of16\n"
     ]
    }
   ],
   "source": [
    "text_splitter = RecursiveCharacterTextSplitter(\n",
    "    chunk_size=500,\n",
    "    chunk_overlap=50,\n",
    "    separators=[\"\\n\", \" \"]\n",
    ")\n",
    "\n",
    "chunks = text_splitter.split_documents(documents)\n",
    "\n",
    "print(f\"Split into {len(chunks)} chunks\")\n",
    "print(f\"Example chunk: {chunks[30].page_content}\")"
   ]
  },
  {
   "cell_type": "code",
   "execution_count": 14,
   "metadata": {},
   "outputs": [],
   "source": [
    "embeddings = GoogleGenerativeAIEmbeddings(model=\"models/embedding-001\")\n",
    "\n",
    "vectorstore = FAISS.from_documents(chunks, embeddings)\n",
    "\n",
    "retriever = vectorstore.as_retriever(search_kwargs={\"k\": 3})"
   ]
  },
  {
   "cell_type": "code",
   "execution_count": 15,
   "metadata": {},
   "outputs": [
    {
     "name": "stdout",
     "output_type": "stream",
     "text": [
      "Source: dataset/Chemistry Student Handbook M23.pdf, Text: Frequently Asked Questions Youcandirectyourqueriestothefollowingpersonsofcontact: ChemistryStudentRepresentative, :chem.rep@ashoka.edu.inPrashuchi Pandey UGProgrammeCoordinator,Dr. :aryya.ghosh@ashoka.edu.inAryya Ghosh Head,DepartmentofChemistry, Dr. :hod.che@ashoka.edu.inSourav Pal Canlaboratorycou...\n",
      "Source: dataset/Chemistry Student Handbook M23.pdf, Text: Table of Contents ChemistryatAshoka 1TheUndergraduateMajor 3Electives 4Minor&Concentration 5CourseTimeline 5FrequentlyAskedQuestions 7 1...\n",
      "Source: dataset/Chemistry Student Handbook M23.pdf, Text: Chemistry Department Student HandbookUpdatedMonsoon2023...\n"
     ]
    }
   ],
   "source": [
    "ret = retriever.get_relevant_documents(\"Who is the Chemistry representative?\")\n",
    "\n",
    "for doc in ret:\n",
    "    print(f\"Source: {doc.metadata['source']}, Text: {doc.page_content[:300]}...\")"
   ]
  },
  {
   "cell_type": "code",
   "execution_count": 16,
   "metadata": {},
   "outputs": [],
   "source": [
    "template = \"\"\"\n",
    "You are an AI assistant providing helpful, accurate, and concise responses based on the given context.\n",
    "\n",
    "Context: {context}\n",
    "\n",
    "Question: {question}\n",
    "\n",
    "Answer the question using only the provided context. If the context doesn't contain the answer, say \"I don't have enough information to answer this question.\"\n",
    "\"\"\"\n",
    "\n",
    "prompt = PromptTemplate(\n",
    "    template=template,\n",
    "    input_variables=[\"context\", \"question\"]\n",
    ")\n",
    "\n",
    "\n",
    "llm = ChatGoogleGenerativeAI(model=\"gemini-2.0-flash\", temperature=0)\n",
    "embedding = GoogleGenerativeAIEmbeddings(model=\"models/embedding-001\")\n",
    "\n",
    "rag_chain = RetrievalQA.from_chain_type(\n",
    "    llm=llm,\n",
    "    chain_type=\"stuff\",\n",
    "    retriever=retriever,\n",
    "    chain_type_kwargs={\"prompt\": prompt},\n",
    ")\n"
   ]
  },
  {
   "cell_type": "code",
   "execution_count": 17,
   "metadata": {},
   "outputs": [
    {
     "name": "stdout",
     "output_type": "stream",
     "text": [
      "Question: How many credits do i need for a major in Computer Science?\n",
      "Answer: To major in Computer Science, you need the following:\n",
      "\n",
      "*   Foundation and Critical Thinking courses (36 credits)\n",
      "*   Co-Curricular courses (4 credits)\n",
      "*   Computer Science Major courses:\n",
      "    *   10 compulsory core courses (40 credits)\n",
      "    *   A minimum of 20 credits of electives\n",
      "\n",
      "Therefore, you need a total of 36 + 4 + 40 + 20 = 100 credits for a major in Computer Science.\n",
      "\n",
      "Source documents:\n",
      "1. Source: dataset/CS Handbook 2023.pdf\n",
      "   Excerpt: CSMinor RequirementsIn order to get a Minor in Computer Science, students are required totake24credits madeupas follows: 1. IntroductiontoComputer Programming(4credits)2. 3CScorecourses (3x 4= 12credits)3. Any 2CScourses (2x 2= 8credits) Interdisciplinary MajorsIn order to Major in an interdisciplinary program, students must accumulate 116credit pointsinthreeyears. TheComputer Sciencedepartment oﬀers threeinterdisciplinary Majors ● Computer ScienceandMathematics● Computer...\n",
      "\n",
      "2. Source: dataset/CS Handbook 2023.pdf\n",
      "   Excerpt: within three years for a Major inComputer Scienceareas follow: ● FoundationandCritical Thinkingcourses (36credits)● Co-Curricular courses (4credits)● Computer ScienceMajor courses:○ 10compulsory corecourses (40credits)○ Aminimumof 20credits of electives CoreCoursesThesearethecorecourses youhavetotaketoobtaina BSc. (Hons) inCSfromAshoka.● IntroductiontoComputerProgramming● DiscreteMath● Probability andStatistics / Statisticsfor Economics● Computer OrganizationandSystems● Data Structures ●...\n",
      "\n",
      "3. Source: dataset/CS Handbook 2023.pdf\n",
      "   Excerpt: Majors ● Computer ScienceandMathematics● Computer ScienceandEntrepreneurship● Computer ScienceandPhilosophy The course divisions and credit points requirement within three years for these threeInterdisciplinary Major areas follows: ● FoundationandCritical Thinkingcourses (36 credits)● Interdisciplinary Major courses (76credits)● Co-Curricular courses (4credits) CSandEntrepreneurshipFor this interdisciplinary Major, students, in addition to 4 courses (16 credits) in theEntrepreneurship...\n",
      "\n",
      "--------------------------------------------------\n",
      "Question: Who is the chemistry representative?\n",
      "Answer: The chemistry representative can be contacted at chem.rep@ashoka.edu.in.\n",
      "\n",
      "Source documents:\n",
      "1. Source: dataset/Chemistry Student Handbook M23.pdf\n",
      "   Excerpt: Frequently Asked Questions Youcandirectyourqueriestothefollowingpersonsofcontact: ChemistryStudentRepresentative, :chem.rep@ashoka.edu.inPrashuchi Pandey UGProgrammeCoordinator,Dr. :aryya.ghosh@ashoka.edu.inAryya Ghosh Head,DepartmentofChemistry, Dr. :hod.che@ashoka.edu.inSourav Pal Canlaboratorycoursesbecountedasanelective? Whenpursuinga majorin chemistry, it is a requirementto completeall4 laboratorycourses,inadditiontoaminimumof6coretheorycoursesand4electives.However,...\n",
      "\n",
      "2. Source: dataset/Chemistry Student Handbook M23.pdf\n",
      "   Excerpt: Chemistry Department Student HandbookUpdatedMonsoon2023...\n",
      "\n",
      "3. Source: dataset/Chemistry Student Handbook M23.pdf\n",
      "   Excerpt: Table of Contents ChemistryatAshoka 1TheUndergraduateMajor 3Electives 4Minor&Concentration 5CourseTimeline 5FrequentlyAskedQuestions 7 1...\n",
      "\n",
      "--------------------------------------------------\n",
      "Question: What kinds of courses are offered by the IR department?\n",
      "Answer: The IR department offers one mandatory 1000-level course (such as Conflict and Cooperation in International Politics, Introduction to International Relations Theory, Introduction to International History, Decolonisation: An International History and The Global Cold War) and 3 electives in IR (including cross-listed courses).\n",
      "\n",
      "Source documents:\n",
      "1. Source: dataset/23- 24 Ashoka IR Student Handbook.pdf\n",
      "   Excerpt: ConcentrationinInternationalRelations TopursueaconcentrationinIR,studentsneedtocomplete4coursesinIR. The4coursesinIRinclude:a) Onemandatory1000-level(suchasConflictandCooperationinInternationalPolitics,IntroductiontoInternationalRelationsTheory,IntroductiontoInternationalHistory,Decolonisation:AnInternationalHistoryandTheGlobalColdWar)b) 3electivesinIR(including1crosslistedcourse) InterdisciplinaryMajorofHistoryandIR...\n",
      "\n",
      "2. Source: dataset/23- 24 Ashoka IR Student Handbook.pdf\n",
      "   Excerpt: ConcentrationinInternationalRelations: TopursueaconcentrationinIR,studentsneedtocomplete4coursesinIR.The4coursesinIRinclude: ● Onemandatory1000-level(suchasConflictandCooperationinInternationalPolitics,IntroductiontoInternationalRelationsTheory,IntroductiontoInternationalHistory,Decolonisation:AnInternationalHistoryorTheGlobalColdWar)● 3electivesinIR(includingcross-listedcourses). InterdisciplinaryMajorandAdvancedMajorinHistoryandIR...\n",
      "\n",
      "3. Source: dataset/23- 24 Ashoka IR Student Handbook.pdf\n",
      "   Excerpt: VIII.FrequentlyAskedQuestions(FAQs): Q1:HowmanycoursesdoIneedtocompleteaminor/concentrationinIR?A:YouneedsixcoursestofinishaminorinIR.YouneedfourcoursestofinishaconcentrationinIR....\n",
      "\n",
      "--------------------------------------------------\n",
      "Question: Who can I contact in the Computer Science Department?\n",
      "Answer: Based on the provided context, you can contact the following in the Computer Science Department:\n",
      "\n",
      "*   **CS Representatives:** Bhumika Mittal, Gautam Ahuja, and Gautam Yajaman. The best way to contact them is via email at cs.rep@ashoka.edu.in.\n",
      "*   **All Ashoka faculty** can be contacted using the Ashoka Email.\n",
      "*   **Ashoka Staff:** Use the email syntax <firstname>.<lastname>@ashoka.edu.in\n",
      "*   **Current CSHoD (Prof Subhashis Banerjee):** hod.cs@ashoka.edu.in\n",
      "*   **Alumni:** Contact alumni on their alumni email ID.\n",
      "\n",
      "Source documents:\n",
      "1. Source: dataset/CS Handbook 2023.pdf\n",
      "   Excerpt: contact alumni ontheir alumni email ID.○ Tomakethings easier for your TAs andTFs, makesuretofollowtheguidelines they providewhencontactingthem. Theseguidelines may includeusingspeciﬁc subject lines, keywords, andother relevant informationforcourse-relatedqueries. ● If youdon’t knowwhotocontact for anythingremotely relatedtoComputer Science,youshouldprobably contact theCSRepresentativeﬁrst. For the2023-24academicyear, theCSRepresentatives are○ BhumikaMittal○ GautamAhuja○ GautamYajaman Thebest...\n",
      "\n",
      "2. Source: dataset/CS Handbook 2023.pdf\n",
      "   Excerpt: BhumikaMittal○ GautamAhuja○ GautamYajaman Thebest way tocontact withCSRepresentatives is toreachout tothemvia emailingcs.rep@ashoka.edu.in ● All Ashoka faculty canbecontactedusingtheAshoka Email. Ashoka Staﬀhavesimpler email syntaxes, whichingeneral is - <ﬁrstname>.<lastname>@ashoka.edu.in ● TheCurrent CSHoD(Prof Subhashis Banerjee) canbereachedout to, athod.cs@ashoka.edu.in 13...\n",
      "\n",
      "3. Source: dataset/CS Handbook 2023.pdf\n",
      "   Excerpt: majors, a minor,a concentration are also oﬀered by the Department inaddition to an undergraduate major in Computer Scienceanda Ph.D. inComputer Science. Thegoals of theprogrammeinclude(but arenot limitedto): ● Impart a deepunderstandingof thefoundations of Computer Science● Enablea student tobeabletosystematically apply thefoundational knowledgeacrossdisciplines● Createnewknowledgeintheﬁeldof Computer Science Programs Oﬀered ● Undergraduate+ ASP○ Major○ Interdisciplinary Majors ○ AdvancedMajor...\n",
      "\n",
      "--------------------------------------------------\n",
      "Question: What is their email address?\n",
      "Answer: Please specify who you are asking about. The context provides email formats for students, faculty, and staff at Ashoka University, as well as specific email addresses for CS representatives and the current CSHoD (Prof. Subhashis Banerjee). To provide the correct email address, I need to know which person or group you are asking about.\n",
      "\n",
      "Source documents:\n",
      "1. Source: dataset/CS Handbook 2023.pdf\n",
      "   Excerpt: Useful Contacts ● Tocontact any student (batchmate/senior/alumni) at Ashoka, it is convenient tousetheAshoka Email. Thegeneral syntax of one's email is<ﬁrstname>.<lastname>_<batch>@ashoka.edu.inandyoucanusethis format tolookup/contact anyoneat Ashoka. Keepinmindthat if onehas multipleactiveemailaddresses, youwill needtouseyour discretion, as follows:○ If onehas separateaspandugemails, contact themontheir latest email (i.easpinthis case). Similarly, contact alumni ontheir alumni email ID.○...\n",
      "\n",
      "2. Source: dataset/Student Handbook for Economics (NEP).pdf\n",
      "   Excerpt: Detailsoncrosslistscanbefoundhere:https://docs.google.com/document/d/1muhpah2CwAB5_Oks28eXjitbtkYDsHMIK5XG6d8Q0y8/edit?usp=share_link...\n",
      "\n",
      "3. Source: dataset/CS Handbook 2023.pdf\n",
      "   Excerpt: BhumikaMittal○ GautamAhuja○ GautamYajaman Thebest way tocontact withCSRepresentatives is toreachout tothemvia emailingcs.rep@ashoka.edu.in ● All Ashoka faculty canbecontactedusingtheAshoka Email. Ashoka Staﬀhavesimpler email syntaxes, whichingeneral is - <ﬁrstname>.<lastname>@ashoka.edu.in ● TheCurrent CSHoD(Prof Subhashis Banerjee) canbereachedout to, athod.cs@ashoka.edu.in 13...\n",
      "\n",
      "--------------------------------------------------\n"
     ]
    }
   ],
   "source": [
    "\n",
    "def ask_rag(question):\n",
    "    response = rag_chain.invoke({\"query\": question})\n",
    "    return response[\"result\"]\n",
    "\n",
    "\n",
    "questions = [\n",
    "    \"How many credits do i need for a major in Computer Science?\",\n",
    "    \"Who is the chemistry representative?\",\n",
    "    \"What kinds of courses are offered by the IR department?\",\n",
    "    \"Who can I contact in the Computer Science Department?\",\n",
    "    \"What is their email address?\"\n",
    "]\n",
    "\n",
    "for question in questions:\n",
    "\n",
    "    print(f\"Question: {question}\")\n",
    "    answer = ask_rag(question)\n",
    "    print(f\"Answer: {answer}\")\n",
    "\n",
    "    \n",
    "    \n",
    "    source_docs = retriever.get_relevant_documents(question)\n",
    "    print(\"\\nSource documents:\")\n",
    "    for i, doc in enumerate(source_docs, 1):\n",
    "        print(f\"{i}. Source: {doc.metadata.get('source', 'Unknown')}\")\n",
    "        print(f\"   Excerpt: {doc.page_content[:500]}...\\n\")\n",
    "    print(\"-\" * 50)"
   ]
  },
  {
   "cell_type": "code",
   "execution_count": 18,
   "metadata": {},
   "outputs": [
    {
     "name": "stdout",
     "output_type": "stream",
     "text": [
      "Question: How many credits do i need for a major in Computer Science?\n",
      "Answer: To major in Computer Science, you need the following:\n",
      "\n",
      "*   Foundation and Critical Thinking courses (36 credits)\n",
      "*   Co-Curricular courses (4 credits)\n",
      "*   Computer Science Major courses:\n",
      "    *   10 compulsory core courses (40 credits)\n",
      "    *   A minimum of 20 credits of electives\n",
      "\n",
      "Therefore, you need a total of 36 + 4 + 40 + 20 = 100 credits for a major in Computer Science.\n",
      "\n",
      "Source documents:\n",
      "1. Source: dataset/CS Handbook 2023.pdf\n",
      "   Excerpt: CSMinor RequirementsIn order to get a Minor in Computer Science, students are required totake24credits madeupas follows: 1. IntroductiontoComputer Programming(4credits)2. 3CScorecourses (3x 4= 12credits)3. Any 2CScourses (2x 2= 8credits) Interdisciplinary MajorsIn order to Major in an interdisciplinary program, students must accumulate 116credit pointsinthreeyears. TheComputer Sciencedepartment oﬀers threeinterdisciplinary Majors ● Computer ScienceandMathematics● Computer...\n",
      "\n",
      "2. Source: dataset/CS Handbook 2023.pdf\n",
      "   Excerpt: within three years for a Major inComputer Scienceareas follow: ● FoundationandCritical Thinkingcourses (36credits)● Co-Curricular courses (4credits)● Computer ScienceMajor courses:○ 10compulsory corecourses (40credits)○ Aminimumof 20credits of electives CoreCoursesThesearethecorecourses youhavetotaketoobtaina BSc. (Hons) inCSfromAshoka.● IntroductiontoComputerProgramming● DiscreteMath● Probability andStatistics / Statisticsfor Economics● Computer OrganizationandSystems● Data Structures ●...\n",
      "\n",
      "3. Source: dataset/CS Handbook 2023.pdf\n",
      "   Excerpt: Majors ● Computer ScienceandMathematics● Computer ScienceandEntrepreneurship● Computer ScienceandPhilosophy The course divisions and credit points requirement within three years for these threeInterdisciplinary Major areas follows: ● FoundationandCritical Thinkingcourses (36 credits)● Interdisciplinary Major courses (76credits)● Co-Curricular courses (4credits) CSandEntrepreneurshipFor this interdisciplinary Major, students, in addition to 4 courses (16 credits) in theEntrepreneurship...\n",
      "\n",
      "--------------------------------------------------\n",
      "Question: Who is the chemistry representative and how do I contact them?\n",
      "Answer: The Chemistry Student Representative can be contacted at chem.rep@ashoka.edu.in.\n",
      "\n",
      "Source documents:\n",
      "1. Source: dataset/Chemistry Student Handbook M23.pdf\n",
      "   Excerpt: Frequently Asked Questions Youcandirectyourqueriestothefollowingpersonsofcontact: ChemistryStudentRepresentative, :chem.rep@ashoka.edu.inPrashuchi Pandey UGProgrammeCoordinator,Dr. :aryya.ghosh@ashoka.edu.inAryya Ghosh Head,DepartmentofChemistry, Dr. :hod.che@ashoka.edu.inSourav Pal Canlaboratorycoursesbecountedasanelective? Whenpursuinga majorin chemistry, it is a requirementto completeall4 laboratorycourses,inadditiontoaminimumof6coretheorycoursesand4electives.However,...\n",
      "\n",
      "2. Source: dataset/Chemistry Student Handbook M23.pdf\n",
      "   Excerpt: forstudentsconsideringaminororconcentrationinchemistry, thelaboratorycourseshavetheflexibilitytobecountedaselectives Willthelabsbeindependentofthetheorycourses- intermsofnumberofcredits(andhours)? Alllabsarestand-alonecoursesandmandatoryforChemistrymajorstudents.Theyeachcountforthesamenumberofcreditsastheorycourses. IaminterestedinTA’ingforaChemistrycourse.HowcanIapply? If you'reinterestedin becominga TeachingAssistant(TA)fora...\n",
      "\n",
      "3. Source: dataset/Chemistry Student Handbook M23.pdf\n",
      "   Excerpt: wouldliketominorinChemistry. WillanyofthosecoursesbecrosslistedwithChemistryandcounttowardsmyChemistrycredits? Yes, coursesthatare cross-listedwithChemistrywillindeedcounttowardyourChemistryminor. The ChemistryDepartmentis activelyworkingon introducingadditionalcross-listedcoursesin collaborationwithvariousdepartments.Foranyinquiriesregardingcourse-relatedmattersorcross-listingrequests,youcanreachouttothestudentrepresentative.Additionally, keepan...\n",
      "\n",
      "--------------------------------------------------\n",
      "Question: What kinds of courses are offered by the IR department?\n",
      "Answer: The IR department offers one mandatory 1000-level course (such as Conflict and Cooperation in International Politics, Introduction to International Relations Theory, Introduction to International History, Decolonisation: An International History and The Global Cold War) and 3 electives in IR (including cross-listed courses).\n",
      "\n",
      "Source documents:\n",
      "1. Source: dataset/23- 24 Ashoka IR Student Handbook.pdf\n",
      "   Excerpt: ConcentrationinInternationalRelations TopursueaconcentrationinIR,studentsneedtocomplete4coursesinIR. The4coursesinIRinclude:a) Onemandatory1000-level(suchasConflictandCooperationinInternationalPolitics,IntroductiontoInternationalRelationsTheory,IntroductiontoInternationalHistory,Decolonisation:AnInternationalHistoryandTheGlobalColdWar)b) 3electivesinIR(including1crosslistedcourse) InterdisciplinaryMajorofHistoryandIR...\n",
      "\n",
      "2. Source: dataset/23- 24 Ashoka IR Student Handbook.pdf\n",
      "   Excerpt: ConcentrationinInternationalRelations: TopursueaconcentrationinIR,studentsneedtocomplete4coursesinIR.The4coursesinIRinclude: ● Onemandatory1000-level(suchasConflictandCooperationinInternationalPolitics,IntroductiontoInternationalRelationsTheory,IntroductiontoInternationalHistory,Decolonisation:AnInternationalHistoryorTheGlobalColdWar)● 3electivesinIR(includingcross-listedcourses). InterdisciplinaryMajorandAdvancedMajorinHistoryandIR...\n",
      "\n",
      "3. Source: dataset/23- 24 Ashoka IR Student Handbook.pdf\n",
      "   Excerpt: VIII.FrequentlyAskedQuestions(FAQs): Q1:HowmanycoursesdoIneedtocompleteaminor/concentrationinIR?A:YouneedsixcoursestofinishaminorinIR.YouneedfourcoursestofinishaconcentrationinIR....\n",
      "\n",
      "--------------------------------------------------\n"
     ]
    }
   ],
   "source": [
    "questions = [\n",
    "    \"How many credits do i need for a major in Computer Science?\",\n",
    "    \"Who is the chemistry representative and how do I contact them?\",\n",
    "    \"What kinds of courses are offered by the IR department?\"\n",
    "]\n",
    "\n",
    "for question in questions:\n",
    "\n",
    "    print(f\"Question: {question}\")\n",
    "    answer = ask_rag(question)\n",
    "    print(f\"Answer: {answer}\")\n",
    "\n",
    "    source_docs = retriever.get_relevant_documents(question)\n",
    "    print(\"\\nSource documents:\")\n",
    "    for i, doc in enumerate(source_docs, 1):\n",
    "        print(f\"{i}. Source: {doc.metadata.get('source', 'Unknown')}\")\n",
    "        print(f\"   Excerpt: {doc.page_content[:500]}...\\n\")\n",
    "    print(\"-\" * 50)"
   ]
  },
  {
   "cell_type": "code",
   "execution_count": null,
   "metadata": {},
   "outputs": [
    {
     "data": {
      "text/plain": [
       "'Yes, if a course is cross-listed and fulfills requirements for both your major and minor, it can be double or triple counted, thereby fulfilling major/minor requirements of up to 3 departments. You receive only 4 credits for the course, but it will contribute towards both the major and minor requirements.'"
      ]
     },
     "execution_count": 22,
     "metadata": {},
     "output_type": "execute_result"
    }
   ],
   "source": [
    "ask_rag(\"who are the cs representatives?\")"
   ]
  }
 ],
 "metadata": {
  "kernelspec": {
   "display_name": "Python 3",
   "language": "python",
   "name": "python3"
  },
  "language_info": {
   "codemirror_mode": {
    "name": "ipython",
    "version": 3
   },
   "file_extension": ".py",
   "mimetype": "text/x-python",
   "name": "python",
   "nbconvert_exporter": "python",
   "pygments_lexer": "ipython3",
   "version": "3.9.13"
  }
 },
 "nbformat": 4,
 "nbformat_minor": 2
}
