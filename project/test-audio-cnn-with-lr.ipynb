{
 "cells": [
  {
   "cell_type": "code",
   "execution_count": 11,
   "id": "6c562fa1",
   "metadata": {},
   "outputs": [],
   "source": [
    "import os\n",
    "import numpy as np\n",
    "from sklearn.preprocessing import LabelEncoder\n",
    "\n",
    "data_dir = \"AudioWAV/\"\n",
    "emotion_map = {\n",
    "    \"ANG\": \"Anger\",\n",
    "    \"DIS\": \"Disgust\",\n",
    "    \"FEA\": \"Fear\",\n",
    "    \"HAP\": \"Happy\",\n",
    "    \"NEU\": \"Neutral\",\n",
    "    \"SAD\": \"Sad\"\n",
    "}\n",
    "\n",
    "file_paths = []\n",
    "labels = []\n",
    "\n",
    "for fname in os.listdir(data_dir):\n",
    "    if fname.endswith(\".wav\"):\n",
    "        parts = fname.split(\"_\")\n",
    "        emotion_code = parts[2]\n",
    "        if emotion_code in emotion_map:\n",
    "            file_paths.append(os.path.join(data_dir, fname))\n",
    "            labels.append(emotion_map[emotion_code])"
   ]
  },
  {
   "cell_type": "code",
   "execution_count": 12,
   "id": "7bfa9990",
   "metadata": {},
   "outputs": [],
   "source": [
    "import librosa\n",
    "\n",
    "def extract_mel_spectrogram(file_path, n_mels=256, max_len=256):\n",
    "    y, sr = librosa.load(file_path, sr=None)\n",
    "    mel_spec = librosa.feature.melspectrogram(y=y, sr=sr, n_mels=n_mels)\n",
    "    log_mel = librosa.power_to_db(mel_spec)\n",
    "\n",
    "    # Pad or truncate to fixed length\n",
    "    if log_mel.shape[1] < max_len:\n",
    "        pad_width = max_len - log_mel.shape[1]\n",
    "        log_mel = np.pad(log_mel, pad_width=((0,0), (0, pad_width)), mode='constant')\n",
    "    else:\n",
    "        log_mel = log_mel[:, :max_len]\n",
    "\n",
    "    return log_mel"
   ]
  },
  {
   "cell_type": "code",
   "execution_count": 13,
   "id": "bf5ebefa",
   "metadata": {},
   "outputs": [],
   "source": [
    "import pickle\n",
    "X = []\n",
    "for path in file_paths:\n",
    "    spec = extract_mel_spectrogram(path)\n",
    "    X.append(spec)\n",
    "\n",
    "X = np.array(X)\n",
    "X = X[..., np.newaxis]  # (samples, 128, 128, 1)\n",
    "\n",
    "label_encoder = LabelEncoder()\n",
    "y = label_encoder.fit_transform(labels)\n",
    "\n",
    "# Normalize\n",
    "X = X / np.max(X)\n",
    "\n",
    "# Split\n",
    "from sklearn.model_selection import train_test_split\n",
    "X_train, X_test, y_train, y_test = train_test_split(X, y, stratify=y, test_size=0.1, random_state=42)\n",
    "with open(\"label_encoder-2.pkl\", \"wb\") as f:\n",
    "    pickle.dump(label_encoder, f)"
   ]
  },
  {
   "cell_type": "code",
   "execution_count": 14,
   "id": "76247ab4",
   "metadata": {},
   "outputs": [
    {
     "name": "stderr",
     "output_type": "stream",
     "text": [
      "/Users/shrek/Desktop/courses/semester 8/nlp/NLP-CS4420/project/.venv/lib/python3.9/site-packages/keras/src/layers/convolutional/base_conv.py:107: UserWarning: Do not pass an `input_shape`/`input_dim` argument to a layer. When using Sequential models, prefer using an `Input(shape)` object as the first layer in the model instead.\n",
      "  super().__init__(activity_regularizer=activity_regularizer, **kwargs)\n"
     ]
    },
    {
     "name": "stdout",
     "output_type": "stream",
     "text": [
      "Epoch 1/6\n",
      "\u001b[1m168/168\u001b[0m \u001b[32m━━━━━━━━━━━━━━━━━━━━\u001b[0m\u001b[37m\u001b[0m \u001b[1m81s\u001b[0m 480ms/step - accuracy: 0.2971 - loss: 1.6748 - val_accuracy: 0.4649 - val_loss: 1.3825 - learning_rate: 0.0010\n",
      "Epoch 2/6\n",
      "\u001b[1m168/168\u001b[0m \u001b[32m━━━━━━━━━━━━━━━━━━━━\u001b[0m\u001b[37m\u001b[0m \u001b[1m85s\u001b[0m 506ms/step - accuracy: 0.4308 - loss: 1.4109 - val_accuracy: 0.4963 - val_loss: 1.3039 - learning_rate: 0.0010\n",
      "Epoch 3/6\n",
      "\u001b[1m168/168\u001b[0m \u001b[32m━━━━━━━━━━━━━━━━━━━━\u001b[0m\u001b[37m\u001b[0m \u001b[1m89s\u001b[0m 532ms/step - accuracy: 0.4831 - loss: 1.3123 - val_accuracy: 0.4918 - val_loss: 1.2703 - learning_rate: 0.0010\n",
      "Epoch 4/6\n",
      "\u001b[1m168/168\u001b[0m \u001b[32m━━━━━━━━━━━━━━━━━━━━\u001b[0m\u001b[37m\u001b[0m \u001b[1m101s\u001b[0m 603ms/step - accuracy: 0.5362 - loss: 1.1980 - val_accuracy: 0.5112 - val_loss: 1.2487 - learning_rate: 0.0010\n",
      "Epoch 5/6\n",
      "\u001b[1m168/168\u001b[0m \u001b[32m━━━━━━━━━━━━━━━━━━━━\u001b[0m\u001b[37m\u001b[0m \u001b[1m103s\u001b[0m 611ms/step - accuracy: 0.5586 - loss: 1.1334 - val_accuracy: 0.5291 - val_loss: 1.2289 - learning_rate: 0.0010\n",
      "Epoch 6/6\n",
      "\u001b[1m168/168\u001b[0m \u001b[32m━━━━━━━━━━━━━━━━━━━━\u001b[0m\u001b[37m\u001b[0m \u001b[1m108s\u001b[0m 642ms/step - accuracy: 0.5827 - loss: 1.0754 - val_accuracy: 0.4836 - val_loss: 1.3069 - learning_rate: 0.0010\n"
     ]
    },
    {
     "name": "stderr",
     "output_type": "stream",
     "text": [
      "WARNING:absl:You are saving your model as an HDF5 file via `model.save()` or `keras.saving.save_model(model)`. This file format is considered legacy. We recommend using instead the native Keras format, e.g. `model.save('my_model.keras')` or `keras.saving.save_model(model, 'my_model.keras')`. \n"
     ]
    }
   ],
   "source": [
    "import tensorflow as tf\n",
    "from tensorflow.keras.models import Sequential\n",
    "from tensorflow.keras.layers import Conv2D, MaxPooling2D, Flatten, Dense, Dropout\n",
    "from tensorflow.keras.regularizers import l2\n",
    "from tensorflow.keras.callbacks import EarlyStopping, ReduceLROnPlateau\n",
    "\n",
    "model = Sequential([\n",
    "    Conv2D(32, (3, 3), activation='relu', input_shape=(256, 256, 1)),\n",
    "    MaxPooling2D(2, 2),\n",
    "    \n",
    "    Conv2D(64, (3, 3), activation='relu'),\n",
    "    MaxPooling2D(2, 2),\n",
    "    \n",
    "    Conv2D(128, (3, 3), activation='relu'),\n",
    "    MaxPooling2D(2, 2),\n",
    "    \n",
    "    Flatten(),\n",
    "    Dense(256, activation='relu'),\n",
    "    Dropout(0.5),\n",
    "    Dense(len(label_encoder.classes_), activation='softmax')\n",
    "])\n",
    "\n",
    "model.compile(optimizer='adam', loss='sparse_categorical_crossentropy', metrics=['accuracy'])\n",
    "\n",
    "# Add early stopping\n",
    "early_stop = EarlyStopping(monitor='val_loss', patience=3, restore_best_weights=True)\n",
    "reduce_lr = ReduceLROnPlateau(monitor='val_loss', factor=0.5, patience=2, min_lr=1e-6)\n",
    "\n",
    "history = model.fit(\n",
    "    X_train, y_train,\n",
    "    epochs=6,\n",
    "    batch_size=32,\n",
    "    validation_split=0.2,\n",
    "    callbacks=[early_stop, reduce_lr]\n",
    ")\n",
    "model.save(\"cnn_emotion_model-2.h5\")\n",
    "\n"
   ]
  },
  {
   "cell_type": "code",
   "execution_count": 17,
   "id": "ea1c8a96",
   "metadata": {},
   "outputs": [
    {
     "name": "stderr",
     "output_type": "stream",
     "text": [
      "WARNING:absl:Compiled the loaded model, but the compiled metrics have yet to be built. `model.compile_metrics` will be empty until you train or evaluate the model.\n"
     ]
    }
   ],
   "source": [
    "from tensorflow.keras.models import load_model\n",
    "# Load model and label encoder\n",
    "model = load_model(\"cnn_emotion_model-2.h5\")\n",
    "with open(\"label_encoder-2.pkl\", \"rb\") as f:\n",
    "    label_encoder = pickle.load(f)\n",
    "\n",
    "def predict_emotion_from_audio(audio_path):\n",
    "    # Load audio\n",
    "    y, sr = librosa.load(audio_path, sr=22050)\n",
    "    \n",
    "    # Extract Mel spectrogram with 256 Mel bands\n",
    "    mel = librosa.feature.melspectrogram(y=y, sr=sr, n_mels=256)\n",
    "    mel_db = librosa.power_to_db(mel, ref=np.max)\n",
    "\n",
    "    # Resize time dimension to 256\n",
    "    if mel_db.shape[1] < 256:\n",
    "        pad_width = 256 - mel_db.shape[1]\n",
    "        mel_db = np.pad(mel_db, ((0, 0), (0, pad_width)), mode='constant')\n",
    "    else:\n",
    "        mel_db = mel_db[:, :256]\n",
    "\n",
    "    # Reshape for CNN input\n",
    "    mel_db = mel_db.reshape(1, 256, 256, 1)\n",
    "    mel_db = mel_db / np.max(mel_db)\n",
    "\n",
    "    # Predict\n",
    "    prediction = model.predict(mel_db)\n",
    "    predicted_label = label_encoder.inverse_transform([np.argmax(prediction)])\n",
    "    return predicted_label[0]\n"
   ]
  },
  {
   "cell_type": "code",
   "execution_count": 18,
   "id": "f7451b74",
   "metadata": {},
   "outputs": [
    {
     "name": "stdout",
     "output_type": "stream",
     "text": [
      "\u001b[1m1/1\u001b[0m \u001b[32m━━━━━━━━━━━━━━━━━━━━\u001b[0m\u001b[37m\u001b[0m \u001b[1m0s\u001b[0m 36ms/step\n",
      "Anger\n"
     ]
    },
    {
     "name": "stderr",
     "output_type": "stream",
     "text": [
      "/var/folders/5v/19pdwzv572b5vtt6l96sc4t40000gn/T/ipykernel_51594/1805908227.py:24: RuntimeWarning: divide by zero encountered in divide\n",
      "  mel_db = mel_db / np.max(mel_db)\n",
      "/var/folders/5v/19pdwzv572b5vtt6l96sc4t40000gn/T/ipykernel_51594/1805908227.py:24: RuntimeWarning: invalid value encountered in divide\n",
      "  mel_db = mel_db / np.max(mel_db)\n"
     ]
    }
   ],
   "source": [
    "\n",
    "# Example usage\n",
    "print(predict_emotion_from_audio(\"AudioWAV/1083_IOM_FEA_XX.wav\"))"
   ]
  },
  {
   "cell_type": "code",
   "execution_count": 19,
   "id": "9d9e5d0d",
   "metadata": {},
   "outputs": [
    {
     "data": {
      "image/png": "[encoded data removed]",
      "text/plain": [
       "<Figure size 640x480 with 1 Axes>"
      ]
     },
     "metadata": {},
     "output_type": "display_data"
    },
    {
     "data": {
      "image/png": "[encoded data removed]",
      "text/plain": [
       "<Figure size 640x480 with 1 Axes>"
      ]
     },
     "metadata": {},
     "output_type": "display_data"
    }
   ],
   "source": [
    "import matplotlib.pyplot as plt\n",
    "\n",
    "# Plot accuracy\n",
    "plt.plot(history.history['accuracy'], label='Train Accuracy')\n",
    "plt.plot(history.history['val_accuracy'], label='Val Accuracy')\n",
    "plt.title('Accuracy Over Epochs')\n",
    "plt.xlabel('Epoch')\n",
    "plt.ylabel('Accuracy')\n",
    "plt.legend()\n",
    "plt.show()\n",
    "\n",
    "# Plot loss\n",
    "plt.plot(history.history['loss'], label='Train Loss')\n",
    "plt.plot(history.history['val_loss'], label='Val Loss')\n",
    "plt.title('Loss Over Epochs')\n",
    "plt.xlabel('Epoch')\n",
    "plt.ylabel('Loss')\n",
    "plt.legend()\n",
    "plt.show()"
   ]
  },
  {
   "cell_type": "code",
   "execution_count": 20,
   "id": "e1dee08c",
   "metadata": {},
   "outputs": [
    {
     "name": "stderr",
     "output_type": "stream",
     "text": [
      "/Users/shrek/Desktop/courses/semester 8/nlp/NLP-CS4420/project/.venv/lib/python3.9/site-packages/tqdm/auto.py:21: TqdmWarning: IProgress not found. Please update jupyter and ipywidgets. See https://ipywidgets.readthedocs.io/en/stable/user_install.html\n",
      "  from .autonotebook import tqdm as notebook_tqdm\n"
     ]
    },
    {
     "name": "stdout",
     "output_type": "stream",
     "text": [
      "Predicted CREMA-D Emotion: Happy\n"
     ]
    }
   ],
   "source": [
    "from transformers import AutoTokenizer, AutoModelForSequenceClassification\n",
    "import torch\n",
    "import torch.nn.functional as F\n",
    "\n",
    "# Load model and tokenizer\n",
    "model_name = \"j-hartmann/emotion-english-distilroberta-base\"\n",
    "tokenizer = AutoTokenizer.from_pretrained(model_name)\n",
    "model = AutoModelForSequenceClassification.from_pretrained(model_name)\n",
    "model.eval()\n",
    "\n",
    "# GoEmotions labels used by the model\n",
    "goemotions_labels = [\n",
    "    'anger', 'disgust', 'fear', 'joy', 'neutral', 'sadness', 'surprise'\n",
    "]\n",
    "\n",
    "# Map GoEmotions labels to CREMA-D's 6 classes\n",
    "go_to_crema_map = {\n",
    "    \"anger\": \"Anger\",\n",
    "    \"annoyance\": \"Anger\",\n",
    "    \"disgust\": \"Disgust\",\n",
    "    \"fear\": \"Fear\",\n",
    "    \"nervousness\": \"Fear\",\n",
    "    \"joy\": \"Happy\",\n",
    "    \"excitement\": \"Happy\",\n",
    "    \"sadness\": \"Sad\",\n",
    "    \"grief\": \"Sad\",\n",
    "    \"neutral\": \"Neutral\"\n",
    "}\n",
    "\n",
    "from collections import Counter\n",
    "\n",
    "def predict_emotion(text):\n",
    "    inputs = tokenizer(text, return_tensors=\"pt\", truncation=True)\n",
    "    with torch.no_grad():\n",
    "        outputs = model(**inputs)\n",
    "        probs = F.softmax(outputs.logits, dim=1)[0]\n",
    "\n",
    "    # Get top 3 GoEmotions\n",
    "    top_indices = torch.topk(probs, 3).indices.tolist()\n",
    "    top_go_labels = [goemotions_labels[i] for i in top_indices]\n",
    "\n",
    "    # Map to CREMA-D categories and vote\n",
    "    mapped = [go_to_crema_map.get(label) for label in top_go_labels if label in go_to_crema_map]\n",
    "    if mapped:\n",
    "        final = Counter(mapped).most_common(1)[0][0]\n",
    "    else:\n",
    "        final = \"Unknown\"\n",
    "\n",
    "    return final, {label: probs[i].item() for i, label in enumerate(goemotions_labels)}\n",
    "\n",
    "\n",
    "text = \"I am so happy to see you!\"\n",
    "emotion, scores = predict_emotion(text)\n",
    "print(f\"Predicted CREMA-D Emotion: {emotion}\")\n",
    "\n"
   ]
  },
  {
   "cell_type": "code",
   "execution_count": 21,
   "id": "151d9b2a",
   "metadata": {},
   "outputs": [],
   "source": [
    "import numpy as np\n",
    "\n",
    "# CREMA-D target classes\n",
    "crema_labels = [\"Anger\", \"Disgust\", \"Fear\", \"Happy\", \"Neutral\", \"Sad\"]\n",
    "\n",
    "def predict_text_probs(text):\n",
    "    inputs = tokenizer(text, return_tensors=\"pt\", truncation=True)\n",
    "    with torch.no_grad():\n",
    "        outputs = model(**inputs)\n",
    "        probs = F.softmax(outputs.logits, dim=1)[0]\n",
    "\n",
    "    # Initialize zero vector for 6-class CREMA-D\n",
    "    crema_probs = {label: 0.0 for label in crema_labels}\n",
    "\n",
    "    # Map GoEmotions scores to CREMA-D\n",
    "    for i, go_label in enumerate(goemotions_labels):\n",
    "        mapped = go_to_crema_map.get(go_label)\n",
    "        if mapped:\n",
    "            crema_probs[mapped] += probs[i].item()\n",
    "\n",
    "    # Convert to numpy array in correct order\n",
    "    return np.array([crema_probs[label] for label in crema_labels]).reshape(1, -1)\n",
    "\n",
    "\n",
    "def fuse_predictions(audio_path, text, alpha=0.5):\n",
    "    # CNN speech model\n",
    "    y_audio, sr = librosa.load(audio_path, sr=22050)\n",
    "    mel = librosa.feature.melspectrogram(y=y_audio, sr=sr, n_mels=256)\n",
    "    mel_db = librosa.power_to_db(mel, ref=np.max)\n",
    "    mel_db = np.pad(mel_db, ((0, 0), (0, max(0, 256 - mel_db.shape[1]))), mode='constant')[:, :256]\n",
    "    mel_db = mel_db.reshape(1, 256, 256, 1)\n",
    "    mel_db = mel_db / np.max(mel_db)\n",
    "    speech_probs = cnn_model.predict(mel_db)\n",
    "\n",
    "    # BERT text model\n",
    "    text_probs = predict_text_probs(text)\n",
    "\n",
    "    # Fuse predictions\n",
    "    final_probs = alpha * speech_probs + (1 - alpha) * text_probs\n",
    "    final_label = crema_labels[np.argmax(final_probs)]\n",
    "\n",
    "    return final_label, final_probs"
   ]
  }
 ],
 "metadata": {
  "kernelspec": {
   "display_name": ".venv",
   "language": "python",
   "name": "python3"
  },
  "language_info": {
   "codemirror_mode": {
    "name": "ipython",
    "version": 3
   },
   "file_extension": ".py",
   "mimetype": "text/x-python",
   "name": "python",
   "nbconvert_exporter": "python",
   "pygments_lexer": "ipython3",
   "version": "3.9.13"
  }
 },
 "nbformat": 4,
 "nbformat_minor": 5
}
