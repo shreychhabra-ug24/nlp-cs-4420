{
 "cells": [
  {
   "cell_type": "code",
   "execution_count": 3,
   "id": "5a065bd9",
   "metadata": {},
   "outputs": [],
   "source": [
    "import os\n",
    "import librosa\n",
    "import pickle\n",
    "import numpy as np\n",
    "import matplotlib.pyplot as plt\n",
    "from collections import Counter\n",
    "\n",
    "from sklearn.preprocessing import LabelEncoder\n",
    "import whisper\n",
    "\n",
    "import tensorflow as tf\n",
    "from tensorflow.keras.models import Sequential\n",
    "from tensorflow.keras.layers import Conv2D, MaxPooling2D, Flatten, Dense, Dropout\n",
    "from tensorflow.keras.regularizers import l2\n",
    "from tensorflow.keras.models import load_model\n",
    "from tensorflow.keras.callbacks import EarlyStopping, ReduceLROnPlateau\n",
    "\n",
    "from transformers import AutoTokenizer, AutoModelForSequenceClassification\n",
    "import torch\n",
    "import torch.nn.functional as F\n",
    "\n",
    "import sounddevice as sd\n",
    "from scipy.io.wavfile import write\n",
    "import os\n",
    "import ipywidgets as widgets\n",
    "from IPython.display import display, clear_output"
   ]
  },
  {
   "cell_type": "code",
   "execution_count": 4,
   "id": "6c562fa1",
   "metadata": {},
   "outputs": [],
   "source": [
    "data_dir = \"AudioWAV/\"\n",
    "emotion_map = {\n",
    "    \"ANG\": \"Anger\",\n",
    "    \"DIS\": \"Disgust\",\n",
    "    \"FEA\": \"Fear\",\n",
    "    \"HAP\": \"Happy\",\n",
    "    \"NEU\": \"Neutral\",\n",
    "    \"SAD\": \"Sad\"\n",
    "}\n",
    "\n",
    "file_paths = []\n",
    "labels = []\n",
    "\n",
    "for fname in os.listdir(data_dir):\n",
    "    if fname.endswith(\".wav\"):\n",
    "        parts = fname.split(\"_\")\n",
    "        emotion_code = parts[2]\n",
    "        if emotion_code in emotion_map:\n",
    "            file_paths.append(os.path.join(data_dir, fname))\n",
    "            labels.append(emotion_map[emotion_code])"
   ]
  },
  {
   "cell_type": "code",
   "execution_count": 5,
   "id": "7bfa9990",
   "metadata": {},
   "outputs": [],
   "source": [
    "def extract_mel_spectrogram(file_path, n_mels=256, max_len=256):\n",
    "    y, sr = librosa.load(file_path, sr=None)\n",
    "    mel_spec = librosa.feature.melspectrogram(y=y, sr=sr, n_mels=n_mels)\n",
    "    log_mel = librosa.power_to_db(mel_spec)\n",
    "\n",
    "    # Pad or truncate to fixed length\n",
    "    if log_mel.shape[1] < max_len:\n",
    "        pad_width = max_len - log_mel.shape[1]\n",
    "        log_mel = np.pad(log_mel, pad_width=((0,0), (0, pad_width)), mode='constant')\n",
    "    else:\n",
    "        log_mel = log_mel[:, :max_len]\n",
    "\n",
    "    return log_mel"
   ]
  },
  {
   "cell_type": "code",
   "execution_count": 6,
   "id": "bf5ebefa",
   "metadata": {},
   "outputs": [],
   "source": [
    "X = []\n",
    "for path in file_paths:\n",
    "    spec = extract_mel_spectrogram(path)\n",
    "    X.append(spec)\n",
    "\n",
    "X = np.array(X)\n",
    "X = X[..., np.newaxis]  # (samples, 128, 128, 1)\n",
    "\n",
    "label_encoder = LabelEncoder()\n",
    "y = label_encoder.fit_transform(labels)\n",
    "\n",
    "# Normalize\n",
    "X = X / np.max(X)\n",
    "\n",
    "# Split\n",
    "from sklearn.model_selection import train_test_split\n",
    "X_train, X_test, y_train, y_test = train_test_split(X, y, stratify=y, test_size=0.1, random_state=42)\n",
    "with open(\"label_encoder-2.pkl\", \"wb\") as f:\n",
    "    pickle.dump(label_encoder, f)"
   ]
  },
  {
   "cell_type": "code",
   "execution_count": 7,
   "id": "76247ab4",
   "metadata": {},
   "outputs": [
    {
     "name": "stderr",
     "output_type": "stream",
     "text": [
      "/Users/shrek/Desktop/courses/semester 8/nlp/nlp-cs-4420/project/.venv/lib/python3.9/site-packages/keras/src/layers/convolutional/base_conv.py:107: UserWarning: Do not pass an `input_shape`/`input_dim` argument to a layer. When using Sequential models, prefer using an `Input(shape)` object as the first layer in the model instead.\n",
      "  super().__init__(activity_regularizer=activity_regularizer, **kwargs)\n"
     ]
    },
    {
     "name": "stdout",
     "output_type": "stream",
     "text": [
      "Epoch 1/6\n",
      "\u001b[1m168/168\u001b[0m \u001b[32m━━━━━━━━━━━━━━━━━━━━\u001b[0m\u001b[37m\u001b[0m \u001b[1m83s\u001b[0m 492ms/step - accuracy: 0.3178 - loss: 1.6246 - val_accuracy: 0.4597 - val_loss: 1.3669 - learning_rate: 0.0010\n",
      "Epoch 2/6\n",
      "\u001b[1m168/168\u001b[0m \u001b[32m━━━━━━━━━━━━━━━━━━━━\u001b[0m\u001b[37m\u001b[0m \u001b[1m85s\u001b[0m 504ms/step - accuracy: 0.4485 - loss: 1.3703 - val_accuracy: 0.4821 - val_loss: 1.3173 - learning_rate: 0.0010\n",
      "Epoch 3/6\n",
      "\u001b[1m168/168\u001b[0m \u001b[32m━━━━━━━━━━━━━━━━━━━━\u001b[0m\u001b[37m\u001b[0m \u001b[1m91s\u001b[0m 544ms/step - accuracy: 0.4929 - loss: 1.2795 - val_accuracy: 0.5373 - val_loss: 1.2279 - learning_rate: 0.0010\n",
      "Epoch 4/6\n",
      "\u001b[1m168/168\u001b[0m \u001b[32m━━━━━━━━━━━━━━━━━━━━\u001b[0m\u001b[37m\u001b[0m \u001b[1m99s\u001b[0m 587ms/step - accuracy: 0.5600 - loss: 1.1464 - val_accuracy: 0.5485 - val_loss: 1.2044 - learning_rate: 0.0010\n",
      "Epoch 5/6\n",
      "\u001b[1m168/168\u001b[0m \u001b[32m━━━━━━━━━━━━━━━━━━━━\u001b[0m\u001b[37m\u001b[0m \u001b[1m98s\u001b[0m 584ms/step - accuracy: 0.6051 - loss: 1.0458 - val_accuracy: 0.5530 - val_loss: 1.2120 - learning_rate: 0.0010\n",
      "Epoch 6/6\n",
      "\u001b[1m168/168\u001b[0m \u001b[32m━━━━━━━━━━━━━━━━━━━━\u001b[0m\u001b[37m\u001b[0m \u001b[1m101s\u001b[0m 603ms/step - accuracy: 0.6367 - loss: 0.9484 - val_accuracy: 0.5604 - val_loss: 1.2244 - learning_rate: 0.0010\n"
     ]
    },
    {
     "name": "stderr",
     "output_type": "stream",
     "text": [
      "WARNING:absl:You are saving your model as an HDF5 file via `model.save()` or `keras.saving.save_model(model)`. This file format is considered legacy. We recommend using instead the native Keras format, e.g. `model.save('my_model.keras')` or `keras.saving.save_model(model, 'my_model.keras')`. \n"
     ]
    }
   ],
   "source": [
    "model = Sequential([\n",
    "    Conv2D(32, (3, 3), activation='relu', input_shape=(256, 256, 1)),\n",
    "    MaxPooling2D(2, 2),\n",
    "    \n",
    "    Conv2D(64, (3, 3), activation='relu'),\n",
    "    MaxPooling2D(2, 2),\n",
    "    \n",
    "    Conv2D(128, (3, 3), activation='relu'),\n",
    "    MaxPooling2D(2, 2),\n",
    "    \n",
    "    Flatten(),\n",
    "    Dense(256, activation='relu'),\n",
    "    Dropout(0.5),\n",
    "    Dense(len(label_encoder.classes_), activation='softmax')\n",
    "])\n",
    "\n",
    "model.compile(optimizer='adam', loss='sparse_categorical_crossentropy', metrics=['accuracy'])\n",
    "\n",
    "# Add early stopping\n",
    "early_stop = EarlyStopping(monitor='val_loss', patience=3, restore_best_weights=True)\n",
    "reduce_lr = ReduceLROnPlateau(monitor='val_loss', factor=0.5, patience=2, min_lr=1e-6)\n",
    "\n",
    "history = model.fit(\n",
    "    X_train, y_train,\n",
    "    epochs=6,\n",
    "    batch_size=32,\n",
    "    validation_split=0.2,\n",
    "    callbacks=[early_stop, reduce_lr]\n",
    ")\n",
    "model.save(\"cnn_emotion_model-2.h5\")\n",
    "\n"
   ]
  },
  {
   "cell_type": "code",
   "execution_count": null,
   "id": "ed5f686c",
   "metadata": {},
   "outputs": [],
   "source": [
    "#testing imports\n",
    "import os\n",
    "import librosa\n",
    "import pickle\n",
    "import numpy as np\n",
    "import matplotlib.pyplot as plt\n",
    "from collections import Counter\n",
    "\n",
    "from sklearn.preprocessing import LabelEncoder\n",
    "import whisper\n",
    "\n",
    "import tensorflow as tf\n",
    "from tensorflow.keras.models import Sequential\n",
    "from tensorflow.keras.layers import Conv2D, MaxPooling2D, Flatten, Dense, Dropout\n",
    "from tensorflow.keras.regularizers import l2\n",
    "from tensorflow.keras.models import load_model\n",
    "from tensorflow.keras.callbacks import EarlyStopping, ReduceLROnPlateau\n",
    "\n",
    "from transformers import AutoTokenizer, AutoModelForSequenceClassification\n",
    "import torch\n",
    "import torch.nn.functional as F\n",
    "\n",
    "import sounddevice as sd\n",
    "from scipy.io.wavfile import write\n",
    "import os\n",
    "import ipywidgets as widgets\n",
    "from IPython.display import display, clear_output"
   ]
  },
  {
   "cell_type": "code",
   "execution_count": 8,
   "id": "ea1c8a96",
   "metadata": {},
   "outputs": [
    {
     "name": "stderr",
     "output_type": "stream",
     "text": [
      "WARNING:absl:Compiled the loaded model, but the compiled metrics have yet to be built. `model.compile_metrics` will be empty until you train or evaluate the model.\n"
     ]
    }
   ],
   "source": [
    "model = load_model(\"cnn_emotion_model-2.h5\")\n",
    "with open(\"label_encoder-2.pkl\", \"rb\") as f:\n",
    "    label_encoder = pickle.load(f)\n",
    "\n",
    "def predict_emotion_from_audio(audio_path):\n",
    "    # Load audio\n",
    "    y, sr = librosa.load(audio_path, sr=22050)\n",
    "    \n",
    "    # Extract Mel spectrogram with 256 Mel bands\n",
    "    mel = librosa.feature.melspectrogram(y=y, sr=sr, n_mels=256)\n",
    "    mel_db = librosa.power_to_db(mel, ref=np.max)\n",
    "\n",
    "    # Resize time dimension to 256\n",
    "    if mel_db.shape[1] < 256:\n",
    "        pad_width = 256 - mel_db.shape[1]\n",
    "        mel_db = np.pad(mel_db, ((0, 0), (0, pad_width)), mode='constant')\n",
    "    else:\n",
    "        mel_db = mel_db[:, :256]\n",
    "\n",
    "    # Reshape for CNN input\n",
    "    mel_db = mel_db.reshape(1, 256, 256, 1)\n",
    "    mel_db = mel_db / np.max(mel_db)\n",
    "\n",
    "    # Predict\n",
    "    prediction = model.predict(mel_db)\n",
    "    predicted_label = label_encoder.inverse_transform([np.argmax(prediction)])\n",
    "    return predicted_label[0]\n"
   ]
  },
  {
   "cell_type": "code",
   "execution_count": 9,
   "id": "9d9e5d0d",
   "metadata": {},
   "outputs": [
    {
     "data": {
      "image/png": "[encoded data removed]",
      "text/plain": [
       "<Figure size 640x480 with 1 Axes>"
      ]
     },
     "metadata": {},
     "output_type": "display_data"
    },
    {
     "data": {
      "image/png": "[encoded data removed]",
      "text/plain": [
       "<Figure size 640x480 with 1 Axes>"
      ]
     },
     "metadata": {},
     "output_type": "display_data"
    }
   ],
   "source": [
    "# Plot accuracy\n",
    "plt.plot(history.history['accuracy'], label='Train Accuracy')\n",
    "plt.plot(history.history['val_accuracy'], label='Val Accuracy')\n",
    "plt.title('Accuracy Over Epochs')\n",
    "plt.xlabel('Epoch')\n",
    "plt.ylabel('Accuracy')\n",
    "plt.legend()\n",
    "plt.show()\n",
    "\n",
    "# Plot loss\n",
    "plt.plot(history.history['loss'], label='Train Loss')\n",
    "plt.plot(history.history['val_loss'], label='Val Loss')\n",
    "plt.title('Loss Over Epochs')\n",
    "plt.xlabel('Epoch')\n",
    "plt.ylabel('Loss')\n",
    "plt.legend()\n",
    "plt.show()"
   ]
  },
  {
   "cell_type": "code",
   "execution_count": 10,
   "id": "e1dee08c",
   "metadata": {},
   "outputs": [
    {
     "name": "stdout",
     "output_type": "stream",
     "text": [
      "Predicted CREMA-D Emotion: Happy\n"
     ]
    }
   ],
   "source": [
    "# Load model and tokenizer\n",
    "model_name = \"j-hartmann/emotion-english-distilroberta-base\"\n",
    "tokenizer = AutoTokenizer.from_pretrained(model_name)\n",
    "model = AutoModelForSequenceClassification.from_pretrained(model_name)\n",
    "model.eval()\n",
    "\n",
    "# GoEmotions labels used by the model\n",
    "goemotions_labels = [\n",
    "    'anger', 'disgust', 'fear', 'joy', 'neutral', 'sadness', 'surprise'\n",
    "]\n",
    "\n",
    "# Map GoEmotions labels to CREMA-D's 6 classes\n",
    "go_to_crema_map = {\n",
    "    \"anger\": \"Anger\",\n",
    "    \"annoyance\": \"Anger\",\n",
    "    \"disgust\": \"Disgust\",\n",
    "    \"fear\": \"Fear\",\n",
    "    \"nervousness\": \"Fear\",\n",
    "    \"joy\": \"Happy\",\n",
    "    \"excitement\": \"Happy\",\n",
    "    \"sadness\": \"Sad\",\n",
    "    \"grief\": \"Sad\",\n",
    "    \"neutral\": \"Neutral\"\n",
    "}\n",
    "\n",
    "from collections import Counter\n",
    "\n",
    "def predict_emotion(text):\n",
    "    inputs = tokenizer(text, return_tensors=\"pt\", truncation=True)\n",
    "    with torch.no_grad():\n",
    "        outputs = model(**inputs)\n",
    "        probs = F.softmax(outputs.logits, dim=1)[0]\n",
    "\n",
    "    # Get top 3 GoEmotions\n",
    "    top_indices = torch.topk(probs, 3).indices.tolist()\n",
    "    top_go_labels = [goemotions_labels[i] for i in top_indices]\n",
    "\n",
    "    # Map to CREMA-D categories and vote\n",
    "    mapped = [go_to_crema_map.get(label) for label in top_go_labels if label in go_to_crema_map]\n",
    "    if mapped:\n",
    "        final = Counter(mapped).most_common(1)[0][0]\n",
    "    else:\n",
    "        final = \"Unknown\"\n",
    "\n",
    "    return final, {label: probs[i].item() for i, label in enumerate(goemotions_labels)}\n",
    "\n",
    "\n",
    "text = \"I am so happy to see you!\"\n",
    "emotion, scores = predict_emotion(text)\n",
    "print(f\"Predicted CREMA-D Emotion: {emotion}\")"
   ]
  },
  {
   "cell_type": "code",
   "execution_count": 11,
   "id": "58ec5e51",
   "metadata": {},
   "outputs": [],
   "source": [
    "# Load Whisper model\n",
    "import whisper\n",
    "whisper_model = whisper.load_model(\"base\")\n",
    "\n",
    "# CREMA-D labels\n",
    "crema_labels = [\"Anger\", \"Disgust\", \"Fear\", \"Happy\", \"Neutral\", \"Sad\"]\n",
    "\n",
    "def predict_text_probs(text):\n",
    "    inputs = tokenizer(text, return_tensors=\"pt\", truncation=True)\n",
    "    with torch.no_grad():\n",
    "        outputs = model(**inputs)\n",
    "        probs = F.softmax(outputs.logits, dim=1)[0]\n",
    "    \n",
    "    crema_probs = {label: 0.0 for label in crema_labels}\n",
    "    for i, go_label in enumerate(goemotions_labels):\n",
    "        mapped = go_to_crema_map.get(go_label)\n",
    "        if mapped:\n",
    "            crema_probs[mapped] += probs[i].item()\n",
    "\n",
    "    return np.array([crema_probs[label] for label in crema_labels]).reshape(1, -1)\n",
    "\n",
    "def predict_audio_probs(audio_path):\n",
    "    y_audio, sr = librosa.load(audio_path, sr=22050)\n",
    "    mel = librosa.feature.melspectrogram(y=y_audio, sr=sr, n_mels=256)\n",
    "    mel_db = librosa.power_to_db(mel, ref=np.max)\n",
    "    \n",
    "    # Pad or truncate the time dimension to 256\n",
    "    if mel_db.shape[1] < 256:\n",
    "        pad_width = 256 - mel_db.shape[1]\n",
    "        mel_db = np.pad(mel_db, ((0, 0), (0, pad_width)), mode='constant')\n",
    "    else:\n",
    "        mel_db = mel_db[:, :256]\n",
    "        \n",
    "    mel_db = mel_db.reshape(1, 256, 256, 1)\n",
    "    \n",
    "    # Normalize, handling potential division by zero\n",
    "    max_val = np.max(mel_db)\n",
    "    if max_val > 0:\n",
    "        mel_db = mel_db / max_val\n",
    "    else:\n",
    "        # If max_val is 0 (e.g., silence), mel_db is already effectively zeros or should be.\n",
    "        # This prevents NaN/inf values. The model will receive zeros.\n",
    "        mel_db = np.zeros_like(mel_db) \n",
    "        \n",
    "    cnn_model = load_model(\"cnn_emotion_model-2.h5\")\n",
    "    return cnn_model.predict(mel_db)\n",
    "\n",
    "def full_multimodal_emotion_pipeline(audio_path, alpha=0.5, verbose=True):\n",
    "    # Transcribe using Whisper\n",
    "    transcription_result = whisper_model.transcribe(audio_path)\n",
    "    text = transcription_result[\"text\"].strip()\n",
    "\n",
    "    # Predict from audio\n",
    "    audio_probs = predict_audio_probs(audio_path)\n",
    "\n",
    "    # Predict from text\n",
    "    text_probs = predict_text_probs(text)\n",
    "\n",
    "    # Late fusion\n",
    "    final_probs = alpha * audio_probs + (1 - alpha) * text_probs\n",
    "    final_label = crema_labels[np.argmax(final_probs)]\n",
    "\n",
    "    if verbose:\n",
    "        print(f\"Transcription: {text}\")\n",
    "        print(f\"Predicted Emotion: {final_label}\")\n",
    "\n",
    "    return final_label, final_probs, text\n"
   ]
  },
  {
   "cell_type": "code",
   "execution_count": 12,
   "id": "6480b743",
   "metadata": {},
   "outputs": [
    {
     "name": "stderr",
     "output_type": "stream",
     "text": [
      "/Users/shrek/Desktop/courses/semester 8/nlp/nlp-cs-4420/project/.venv/lib/python3.9/site-packages/whisper/transcribe.py:132: UserWarning: FP16 is not supported on CPU; using FP32 instead\n",
      "  warnings.warn(\"FP16 is not supported on CPU; using FP32 instead\")\n",
      "huggingface/tokenizers: The current process just got forked, after parallelism has already been used. Disabling parallelism to avoid deadlocks...\n",
      "To disable this warning, you can either:\n",
      "\t- Avoid using `tokenizers` before the fork if possible\n",
      "\t- Explicitly set the environment variable TOKENIZERS_PARALLELISM=(true | false)\n",
      "WARNING:absl:Compiled the loaded model, but the compiled metrics have yet to be built. `model.compile_metrics` will be empty until you train or evaluate the model.\n"
     ]
    },
    {
     "name": "stdout",
     "output_type": "stream",
     "text": [
      "\u001b[1m1/1\u001b[0m \u001b[32m━━━━━━━━━━━━━━━━━━━━\u001b[0m\u001b[37m\u001b[0m \u001b[1m0s\u001b[0m 39ms/step\n",
      "Transcription: Hurry! Shut up! What? I'm sorry, please don't speak to me like that. I am simply saying to you... Will you shut up? Hey! Shut the hell up! Shut up! Shut up! Guys, shut up! Please shut up! Shut up! Shut up! Shut up! Shut up! Shut up! Shut up! Shut up! Shut up!\n",
      "Predicted Emotion: Anger\n",
      "\n",
      "--- Final Results ---\n",
      "Transcription      : Hurry! Shut up! What? I'm sorry, please don't speak to me like that. I am simply saying to you... Will you shut up? Hey! Shut the hell up! Shut up! Shut up! Guys, shut up! Please shut up! Shut up! Shut up! Shut up! Shut up! Shut up! Shut up! Shut up! Shut up!\n",
      "Predicted Emotion  : Anger\n"
     ]
    }
   ],
   "source": [
    "# Replace this with the path to your .wav file\n",
    "test_audio_path = \"test.mp3\"\n",
    "\n",
    "# Run the full pipeline\n",
    "final_emotion, fusion_probs, transcription = full_multimodal_emotion_pipeline(test_audio_path)\n",
    "\n",
    "print(\"\\n--- Final Results ---\")\n",
    "print(f\"Transcription      : {transcription}\")\n",
    "print(f\"Predicted Emotion  : {final_emotion}\")\n",
    "#print(f\"Emotion Probabilities (CREMA-D order): {fusion_probs}\")"
   ]
  },
  {
   "cell_type": "code",
   "execution_count": 13,
   "id": "520f2042",
   "metadata": {},
   "outputs": [
    {
     "data": {
      "application/vnd.jupyter.widget-view+json": {
       "model_id": "7a252f1c6937410d9dd924532bac04bf",
       "version_major": 2,
       "version_minor": 0
      },
      "text/plain": [
       "Button(description='🎙️ Record Audio', style=ButtonStyle())"
      ]
     },
     "metadata": {},
     "output_type": "display_data"
    },
    {
     "data": {
      "application/vnd.jupyter.widget-view+json": {
       "model_id": "2fdedbc187cb40bd8a92e9d5eeb2eb97",
       "version_major": 2,
       "version_minor": 0
      },
      "text/plain": [
       "Output()"
      ]
     },
     "metadata": {},
     "output_type": "display_data"
    }
   ],
   "source": [
    "# import sounddevice as sd\n",
    "# from scipy.io.wavfile import write\n",
    "# import os\n",
    "# import ipywidgets as widgets\n",
    "# from IPython.display import display, clear_output\n",
    "\n",
    "record_seconds = 5\n",
    "fs = 22050  # Sample rate\n",
    "\n",
    "record_button = widgets.Button(description=\"🎙️ Record Audio\")\n",
    "output_area = widgets.Output()\n",
    "\n",
    "def record_audio(b):\n",
    "    output_area.clear_output()\n",
    "    with output_area:\n",
    "        print(\"Recording...\")\n",
    "        recording = sd.rec(int(record_seconds * fs), samplerate=fs, channels=1)\n",
    "        sd.wait()\n",
    "        wav_path = \"recorded_audio.wav\"\n",
    "        write(wav_path, fs, recording)\n",
    "        print(\"Recording saved.\")\n",
    "\n",
    "        # Run prediction pipeline\n",
    "        print(\"Running emotion recognition...\")\n",
    "        try:\n",
    "            final_emotion, fusion_probs, transcription = full_multimodal_emotion_pipeline(wav_path)\n",
    "            print(\"\\n--- Results ---\")\n",
    "            print(f\"Transcription      : {transcription}\")\n",
    "            print(f\"Predicted Emotion  : {final_emotion}\")\n",
    "            #rint(f\"Probabilities (CREMA-D order): {fusion_probs}\")\n",
    "        except Exception as e:\n",
    "            print(f\"Error during prediction: {e}\")\n",
    "\n",
    "record_button.on_click(record_audio)\n",
    "display(record_button, output_area)"
   ]
  }
 ],
 "metadata": {
  "kernelspec": {
   "display_name": "Python 3",
   "language": "python",
   "name": "python3"
  },
  "language_info": {
   "codemirror_mode": {
    "name": "ipython",
    "version": 3
   },
   "file_extension": ".py",
   "mimetype": "text/x-python",
   "name": "python",
   "nbconvert_exporter": "python",
   "pygments_lexer": "ipython3",
   "version": "3.9.13"
  }
 },
 "nbformat": 4,
 "nbformat_minor": 5
}
